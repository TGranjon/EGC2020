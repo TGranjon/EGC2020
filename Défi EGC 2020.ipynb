{
 "cells": [
  {
   "cell_type": "markdown",
   "metadata": {},
   "source": [
    "# Projet clustering"
   ]
  },
  {
   "cell_type": "markdown",
   "metadata": {},
   "source": [
    "Objectif du projet : Utiliser le corpus export_articles_EGC_2004_2018 et faire le bilan de l'évolution de la communauté EGC ces 20 dernières années et tenter d'en prédire l'avenir."
   ]
  },
  {
   "cell_type": "markdown",
   "metadata": {},
   "source": [
    "##  Notes :\n",
    "J'ai abandonné l'utilisation de TreeTagger pour lemmatiser : j'ai pas réussi à le faire fonctionner.\n",
    "\n",
    "Ainsi que Gensim : la forme de ses corpus est étrange et je pense que c'est une perte de temps à se conformer à leur modèle."
   ]
  },
  {
   "cell_type": "markdown",
   "metadata": {},
   "source": [
    "### Imports"
   ]
  },
  {
   "cell_type": "code",
   "execution_count": null,
   "metadata": {},
   "outputs": [],
   "source": [
    "import pandas as pd\n",
    "import numpy as np\n",
    "import nltk\n",
    "import string\n",
    "from nltk.corpus import stopwords\n",
    "from french_lefff_lemmatizer.french_lefff_lemmatizer import FrenchLefffLemmatizer\n",
    "from random import randint\n",
    "from sklearn.feature_extraction.text import CountVectorizer\n",
    "from sklearn.feature_extraction.text import TfidfVectorizer\n",
    "from __future__ import print_function\n",
    "from sklearn.decomposition import TruncatedSVD\n",
    "from sklearn.preprocessing import Normalizer\n",
    "from sklearn import metrics\n",
    "from sklearn.datasets import load_files\n",
    "from sklearn.cluster import AgglomerativeClustering\n",
    "import time"
   ]
  },
  {
   "cell_type": "code",
   "execution_count": null,
   "metadata": {},
   "outputs": [],
   "source": [
    "start_time = time.clock()"
   ]
  },
  {
   "cell_type": "markdown",
   "metadata": {},
   "source": [
    "### Ouverture du fichier de données"
   ]
  },
  {
   "cell_type": "markdown",
   "metadata": {},
   "source": [
    "# Fichier de données original.\n",
    "doc = pd.read_csv(\"export_articles_EGC_2004_2018.csv\", sep='\\t')\n",
    "doc"
   ]
  },
  {
   "cell_type": "code",
   "execution_count": null,
   "metadata": {},
   "outputs": [],
   "source": [
    "# Fichier de données corrigé.\n",
    "# La correction va jusqu'à la ligne 66.\n",
    "doc = pd.read_csv(\"export_articles_EGC_2004_2018_Copie.csv\", sep='\\t')\n",
    "doc"
   ]
  },
  {
   "cell_type": "markdown",
   "metadata": {},
   "source": [
    "En travaillant avec title et abstract, on va réaliser les transformations.\n",
    "Tous les documents ont des titres mais ils n'ont pas tous d'abstract.\n",
    "On va donc utiliser une concaténation du titre et de l'abstract afin d'être sûr d'avoir de l'information."
   ]
  },
  {
   "cell_type": "markdown",
   "metadata": {},
   "source": [
    "### Lemmatisation et nettoyage des sujets"
   ]
  },
  {
   "cell_type": "markdown",
   "metadata": {},
   "source": [
    "Il faut mettre les textes en minuscules, tokeniser, retirer la ponctuation, retirer les stopwords puis lemmatiser."
   ]
  },
  {
   "cell_type": "code",
   "execution_count": null,
   "metadata": {},
   "outputs": [],
   "source": [
    "lemmer = FrenchLefffLemmatizer()\n",
    "\n",
    "def lemm_tokens(tokens, lemmer):\n",
    "    lemmed = []\n",
    "    for item in tokens:\n",
    "        lemmed.append(lemmer.lemmatize(item))\n",
    "    return lemmed\n",
    "\n",
    "def tokenize(text):\n",
    "    text = text.translate(str.maketrans('','',string.punctuation))\n",
    "    tokens = nltk.word_tokenize(text)\n",
    "    lemms = lemm_tokens(tokens,lemmer)\n",
    "    #stems = stem_tokens(tokens, stemmer)\n",
    "    return lemms"
   ]
  },
  {
   "cell_type": "code",
   "execution_count": null,
   "metadata": {},
   "outputs": [],
   "source": [
    "resume = [tokenize(doc[\"title\"][0].lower())]\n",
    "abstract = [tokenize(str(doc[\"abstract\"][0].lower()))]\n",
    "for line in range(len(doc)): # title et abstract ont la même taille.\n",
    "    if line != 0:\n",
    "        resume.append(tokenize(doc[\"title\"][line].lower()))\n",
    "        abstract.append(tokenize(str(doc[\"abstract\"][line]).lower()))"
   ]
  },
  {
   "cell_type": "markdown",
   "metadata": {},
   "source": [
    "Le traitment des données est acceptable. Un meilleur traitement pourrait être envisagé."
   ]
  },
  {
   "cell_type": "markdown",
   "metadata": {},
   "source": [
    "Il faut obtenir un seul jeu de données avec les titres et les abstracts pour pouvoir les traiter et éliminer les cas qui n'ont pas d'abstract."
   ]
  },
  {
   "cell_type": "markdown",
   "metadata": {},
   "source": [
    "Il est possible que seul le titre suffise. Il est possible que la racinisation ne soit pas nécéssaire."
   ]
  },
  {
   "cell_type": "code",
   "execution_count": null,
   "metadata": {},
   "outputs": [],
   "source": [
    "for line in range(len(abstract)):\n",
    "    if abstract[line] != \"nan\":\n",
    "        for element in abstract[line]:\n",
    "            resume[line].append(element)"
   ]
  },
  {
   "cell_type": "markdown",
   "metadata": {},
   "source": [
    "### Tf-Idf"
   ]
  },
  {
   "cell_type": "markdown",
   "metadata": {},
   "source": [
    "Attention : l'étape suivante est longue."
   ]
  },
  {
   "cell_type": "code",
   "execution_count": null,
   "metadata": {},
   "outputs": [],
   "source": [
    "dico_time = time.clock()"
   ]
  },
  {
   "cell_type": "code",
   "execution_count": null,
   "metadata": {},
   "outputs": [],
   "source": [
    "dico = []\n",
    "for line in resume:\n",
    "    for word in line:\n",
    "        dico.append(word)\n",
    "for word in dico:\n",
    "    if dico.count(word) != 1:\n",
    "        dico.remove\n",
    "len(dico)"
   ]
  },
  {
   "cell_type": "code",
   "execution_count": null,
   "metadata": {},
   "outputs": [],
   "source": [
    "print(\"--- %s seconds ---\" % round(time.clock() - dico_time, 2))"
   ]
  },
  {
   "cell_type": "code",
   "execution_count": null,
   "metadata": {},
   "outputs": [],
   "source": [
    "dico = list(set(dico))\n",
    "len(dico)"
   ]
  },
  {
   "cell_type": "code",
   "execution_count": null,
   "metadata": {},
   "outputs": [],
   "source": [
    "# Calcul du Tf.\n",
    "tf = []\n",
    "for x in range(len(resume)):\n",
    "    tf.append([])\n",
    "    for y in range(len(resume[x])):\n",
    "        tf[x].append(resume[x].count(resume[x][y]))"
   ]
  },
  {
   "cell_type": "markdown",
   "metadata": {},
   "source": [
    "Attention : l'étape suivante est longue."
   ]
  },
  {
   "cell_type": "code",
   "execution_count": null,
   "metadata": {},
   "outputs": [],
   "source": [
    "df_time = time.clock()"
   ]
  },
  {
   "cell_type": "code",
   "execution_count": null,
   "metadata": {},
   "outputs": [],
   "source": [
    "# Calcul du Df.\n",
    "df = {}\n",
    "for x in range(len(dico)):\n",
    "    sum = 0\n",
    "    for y in range(len(resume)):\n",
    "        if dico[x] in resume[y]:\n",
    "            sum = sum + 1\n",
    "    df[dico[x]] = sum"
   ]
  },
  {
   "cell_type": "code",
   "execution_count": null,
   "metadata": {},
   "outputs": [],
   "source": [
    "print(\"--- %s seconds ---\" % round(time.clock() - df_time, 2))"
   ]
  },
  {
   "cell_type": "code",
   "execution_count": null,
   "metadata": {},
   "outputs": [],
   "source": [
    "# Calcul de l'Idf\n",
    "idf = {}\n",
    "for word in df:\n",
    "    idf[word] = np.log10(len(resume)/df[word])"
   ]
  },
  {
   "cell_type": "code",
   "execution_count": null,
   "metadata": {},
   "outputs": [],
   "source": [
    "# Calcul du Tf-Idf.\n",
    "tfidf = []\n",
    "for x in range(len(resume)):\n",
    "    tfidf.append({})\n",
    "    for y in range(len(resume[x])):\n",
    "        tfidf[x][resume[x][y]] = tf[x][y] * idf[resume[x][y]]\n",
    "len(tfidf)"
   ]
  },
  {
   "cell_type": "markdown",
   "metadata": {},
   "source": [
    "Il faut trier les Tf-Idf par valeur et récupérer les 5 meilleurs."
   ]
  },
  {
   "cell_type": "code",
   "execution_count": null,
   "metadata": {},
   "outputs": [],
   "source": [
    "best = []\n",
    "for item in tfidf:\n",
    "    topic = \"\"\n",
    "    trier = sorted(item.items(), key=lambda kv: kv[1])\n",
    "    trier.reverse()\n",
    "    if len(item)<5:\n",
    "        top = len(item)\n",
    "    else:\n",
    "        top = 5\n",
    "    for i in range(top):\n",
    "        topic = topic + trier[i][0] + \" \"\n",
    "    best.append(topic)"
   ]
  },
  {
   "cell_type": "code",
   "execution_count": null,
   "metadata": {},
   "outputs": [],
   "source": [
    "best"
   ]
  },
  {
   "cell_type": "markdown",
   "metadata": {},
   "source": [
    "### Calcul du LSA"
   ]
  },
  {
   "cell_type": "markdown",
   "metadata": {},
   "source": [
    "Le LSA va calculer, pour un document donné, les documents les plus similaires à son sujet. On classe le résultat le plus similaire dans le cluster du document donné. On reproduit cette étape et on arrête quand à un nombre de clusters ou une similarité trop faible."
   ]
  },
  {
   "cell_type": "markdown",
   "metadata": {},
   "source": [
    "En gros, le LSA nous fournit une similarité qu'on utilise pour former une classification hiérarchique."
   ]
  },
  {
   "cell_type": "markdown",
   "metadata": {},
   "source": [
    "On aura donc des clusters par sujets. On pourra élaborer nos techniques de datation pour déterminer les tendances et, si possible, créer de nouveaux clusters (avec les K-moyennes) plus précis."
   ]
  },
  {
   "cell_type": "code",
   "execution_count": null,
   "metadata": {},
   "outputs": [],
   "source": [
    "## vectorisation\n",
    "# Le tf-idf ne sert à rien d'autre que de convertir notre liste en un vecteur utilisable.\n",
    "vectorizer = TfidfVectorizer(min_df =1)\n",
    "\n",
    "dtm = vectorizer.fit_transform(best)\n",
    "\n",
    "## Document Term Matrix vers Latent Sementic Analysis\n",
    "lsa =TruncatedSVD(2, algorithm = 'randomized')\n",
    "\n",
    "dtm_lsa = lsa.fit_transform(dtm)\n",
    "\n",
    "dtm_lsa = Normalizer(copy=False).fit_transform(dtm_lsa)"
   ]
  },
  {
   "cell_type": "code",
   "execution_count": null,
   "metadata": {},
   "outputs": [],
   "source": [
    "## Calcul de similarité des Documents\n",
    "\n",
    "#Compute document similarity using LSA components\n",
    "\n",
    "similarity = np.asarray(np.asmatrix(dtm_lsa) * np.asmatrix(dtm_lsa).T)\n",
    "# similarity est probablement une matrice\n",
    "\n",
    "pd.DataFrame(similarity, index=best, columns=best).head(10)"
   ]
  },
  {
   "cell_type": "markdown",
   "metadata": {},
   "source": [
    "### Clustering Hiérarchique Ascendant (HAC)"
   ]
  },
  {
   "cell_type": "markdown",
   "metadata": {},
   "source": [
    "Le vrai point d'intérêt de cet algorithme est le seuil de similarité qui servira de point d'arrêt. Pour l'instant, je ne sais pas quel sera ce seuil, il faudra attendre les résultats du clustering."
   ]
  },
  {
   "cell_type": "code",
   "execution_count": null,
   "metadata": {},
   "outputs": [],
   "source": [
    "clusters = AgglomerativeClustering(n_clusters=10).fit_predict(similarity)"
   ]
  },
  {
   "cell_type": "code",
   "execution_count": null,
   "metadata": {},
   "outputs": [],
   "source": [
    "c0 = []\n",
    "c1 = []\n",
    "c2 = []\n",
    "c3 = []\n",
    "c4 = []\n",
    "c5 = []\n",
    "c6 = []\n",
    "c7 = []\n",
    "c8 = []\n",
    "c9 = []\n",
    "\n",
    "for i in range(len(clusters)):\n",
    "    if clusters[i] == 0:\n",
    "        c0.append({best[i]:doc[\"year\"][i]})\n",
    "    elif clusters[i] == 1:\n",
    "        c1.append({best[i]:doc[\"year\"][i]})\n",
    "    elif clusters[i] == 2:\n",
    "        c2.append({best[i]:doc[\"year\"][i]})\n",
    "    elif clusters[i] == 3:\n",
    "        c3.append({best[i]:doc[\"year\"][i]})\n",
    "    elif clusters[i] == 4:\n",
    "        c4.append({best[i]:doc[\"year\"][i]})\n",
    "    elif clusters[i] == 5:\n",
    "        c5.append({best[i]:doc[\"year\"][i]})\n",
    "    elif clusters[i] == 6:\n",
    "        c6.append({best[i]:doc[\"year\"][i]})\n",
    "    elif clusters[i] == 7:\n",
    "        c7.append({best[i]:doc[\"year\"][i]})\n",
    "    elif clusters[i] == 8:\n",
    "        c8.append({best[i]:doc[\"year\"][i]})\n",
    "    elif clusters[i] == 9:\n",
    "        c9.append({best[i]:doc[\"year\"][i]})"
   ]
  },
  {
   "cell_type": "code",
   "execution_count": null,
   "metadata": {},
   "outputs": [],
   "source": [
    "print(len(c0), len(c1), len(c2), len(c3), len(c4), len(c5), len(c6), len(c7), len(c8), len(c9))"
   ]
  },
  {
   "cell_type": "markdown",
   "metadata": {},
   "source": [
    "### Travail temporel"
   ]
  },
  {
   "cell_type": "code",
   "execution_count": null,
   "metadata": {},
   "outputs": [],
   "source": [
    "t0 = []\n",
    "t1 = []\n",
    "t2 = []\n",
    "t3 = []\n",
    "t4 = []\n",
    "t5 = []\n",
    "t6 = []\n",
    "t7 = []\n",
    "t8 = []\n",
    "t9 = []\n",
    "\n",
    "for i in range(len(c0)):\n",
    "    t0.append(list(c0[i].values()))\n",
    "for i in range(len(c1)):\n",
    "    t1.append(list(c1[i].values()))\n",
    "for i in range(len(c2)):\n",
    "    t2.append(list(c2[i].values()))\n",
    "for i in range(len(c3)):\n",
    "    t3.append(list(c3[i].values()))\n",
    "for i in range(len(c4)):\n",
    "    t4.append(list(c4[i].values()))\n",
    "for i in range(len(c5)):\n",
    "    t5.append(list(c5[i].values()))\n",
    "for i in range(len(c6)):\n",
    "    t6.append(list(c6[i].values()))\n",
    "for i in range(len(c7)):\n",
    "    t7.append(list(c7[i].values()))\n",
    "for i in range(len(c8)):\n",
    "    t8.append(list(c8[i].values()))\n",
    "for i in range(len(c9)):\n",
    "    t9.append(list(c9[i].values()))   "
   ]
  },
  {
   "cell_type": "code",
   "execution_count": null,
   "metadata": {},
   "outputs": [],
   "source": [
    "for i in range(len(c0)):\n",
    "    t0.append(t0[i][0])\n",
    "t0 = t0[int(len(t0)/2):]\n",
    "for i in range(len(c1)):\n",
    "    t1.append(t1[i][0])\n",
    "t1 = t1[int(len(t1)/2):]\n",
    "for i in range(len(c2)):\n",
    "    t2.append(t2[i][0])\n",
    "t2 = t2[int(len(t2)/2):]\n",
    "for i in range(len(c3)):\n",
    "    t3.append(t3[i][0])\n",
    "t3 = t3[int(len(t3)/2):]\n",
    "for i in range(len(c4)):\n",
    "    t4.append(t4[i][0])\n",
    "t4 = t4[int(len(t4)/2):]\n",
    "for i in range(len(c5)):\n",
    "    t5.append(t5[i][0])\n",
    "t5 = t5[int(len(t5)/2):]\n",
    "for i in range(len(c6)):\n",
    "    t6.append(t6[i][0])\n",
    "t6 = t6[int(len(t6)/2):]\n",
    "for i in range(len(c7)):\n",
    "    t7.append(t7[i][0])\n",
    "t7 = t7[int(len(t7)/2):]\n",
    "for i in range(len(c8)):\n",
    "    t8.append(t8[i][0])\n",
    "t8 = t8[int(len(t8)/2):]\n",
    "for i in range(len(c9)):\n",
    "    t9.append(t9[i][0])\n",
    "t9 = t9[int(len(t9)/2):]"
   ]
  },
  {
   "cell_type": "code",
   "execution_count": null,
   "metadata": {},
   "outputs": [],
   "source": [
    "T = [t0,t1,t2,t3,t4,t5,t6,t7,t8,t9]"
   ]
  },
  {
   "cell_type": "code",
   "execution_count": null,
   "metadata": {},
   "outputs": [],
   "source": [
    "def minYear(t):\n",
    "    return np.min(t)\n",
    "\n",
    "def maxYear(t):\n",
    "    return np.max(t)\n",
    "\n",
    "def moyYear(t):\n",
    "    return np.mean(t)"
   ]
  },
  {
   "cell_type": "code",
   "execution_count": null,
   "metadata": {},
   "outputs": [],
   "source": [
    "recent = []\n",
    "ancien = []\n",
    "moyen = []\n",
    "mort = []\n",
    "nouveau = []\n",
    "\n",
    "# Si ancien = récent alors récent\n",
    "# Si récent = ancien alors ancien\n",
    "# Si moyenne = ancien alors ancien\n",
    "# Si moyenne = récent alors récent\n",
    "# Si moyenne = moyen alors moyen"
   ]
  },
  {
   "cell_type": "code",
   "execution_count": null,
   "metadata": {},
   "outputs": [],
   "source": [
    "if minYear(t0) < 2011:\n",
    "    if maxYear(t0) < 2011:\n",
    "        mort.append(c0)\n",
    "    else:\n",
    "        if moyYear(t0) < 2009:\n",
    "            ancien.append(c0)\n",
    "        elif moyYear(t0) > 2014:\n",
    "            recent.append(c0)\n",
    "        else:\n",
    "            moyen.append(c0)\n",
    "elif minYear(t0) > 2011:\n",
    "    nouveau.append(c0)\n",
    "else:\n",
    "    if moyYear(t0) < 2011:\n",
    "        ancien.append(c0)\n",
    "    elif moyYear(t0) > 2011:\n",
    "        recent.append(c0)\n",
    "    else:\n",
    "        moyen.append(c0)\n",
    "        \n",
    "if minYear(t1) < 2011:\n",
    "    if maxYear(t1) < 2011:\n",
    "        mort.append(c1)\n",
    "    else:\n",
    "        if moyYear(t1) < 2009:\n",
    "            ancien.append(c1)\n",
    "        elif moyYear(t1) > 2014:\n",
    "            recent.append(c1)\n",
    "        else:\n",
    "            moyen.append(c1)\n",
    "elif minYear(t1) > 2011:\n",
    "    nouveau.append(c1)\n",
    "else:\n",
    "    if moyYear(t1) < 2011:\n",
    "        ancien.append(c1)\n",
    "    elif moyYear(t1) > 2011:\n",
    "        recent.append(c1)\n",
    "    else:\n",
    "        moyen.append(c1)  \n",
    "        \n",
    "if minYear(t2) < 2011:\n",
    "    if maxYear(t2) < 2011:\n",
    "        mort.append(c2)\n",
    "    else:\n",
    "        if moyYear(t2) < 2009:\n",
    "            ancien.append(c2)\n",
    "        elif moyYear(t2) > 2014:\n",
    "            recent.append(c2)\n",
    "        else:\n",
    "            moyen.append(c2)\n",
    "elif minYear(t2) > 2011:\n",
    "    nouveau.append(c2)\n",
    "else:\n",
    "    if moyYear(t2) < 2011:\n",
    "        ancien.append(c2)\n",
    "    elif moyYear(t2) > 2011:\n",
    "        recent.append(c2)\n",
    "    else:\n",
    "        moyen.append(c2)\n",
    "                \n",
    "if minYear(t3) < 2011:\n",
    "    if maxYear(t3) < 2011:\n",
    "        mort.append(c3)\n",
    "    else:\n",
    "        if moyYear(t3) < 2009:\n",
    "            ancien.append(c3)\n",
    "        elif moyYear(t3) > 2014:\n",
    "            recent.append(c3)\n",
    "        else:\n",
    "            moyen.append(c3)\n",
    "elif minYear(t3) > 2011:\n",
    "    nouveau.append(c3)\n",
    "else:\n",
    "    if moyYear(t3) < 2011:\n",
    "        ancien.append(c3)\n",
    "    elif moyYear(t3) > 2011:\n",
    "        recent.append(c3)\n",
    "    else:\n",
    "        moyen.append(c3)\n",
    "                \n",
    "if minYear(t4) < 2011:\n",
    "    if maxYear(t4) < 2011:\n",
    "        mort.append(c4)\n",
    "    else:\n",
    "        if moyYear(t4) < 2009:\n",
    "            ancien.append(c4)\n",
    "        elif moyYear(t4) > 2014:\n",
    "            recent.append(c4)\n",
    "        else:\n",
    "            moyen.append(c4)\n",
    "elif minYear(t4) > 2011:\n",
    "    nouveau.append(c4)\n",
    "else:\n",
    "    if moyYear(t4) < 2011:\n",
    "        ancien.append(c4)\n",
    "    elif moyYear(t4) > 2011:\n",
    "        recent.append(c4)\n",
    "    else:\n",
    "        moyen.append(c4)\n",
    "                \n",
    "if minYear(t5) < 2011:\n",
    "    if maxYear(t5) < 2011:\n",
    "        mort.append(c5)\n",
    "    else:\n",
    "        if moyYear(t5) < 2009:\n",
    "            ancien.append(c5)\n",
    "        elif moyYear(t5) > 2014:\n",
    "            recent.append(c5)\n",
    "        else:\n",
    "            moyen.append(c5)\n",
    "elif minYear(t5) > 2011:\n",
    "    nouveau.append(c5)\n",
    "else:\n",
    "    if moyYear(t5) < 2011:\n",
    "        ancien.append(c5)\n",
    "    elif moyYear(t5) > 2011:\n",
    "        recent.append(c5)\n",
    "    else:\n",
    "        moyen.append(c5)\n",
    "                \n",
    "if minYear(t6) < 2011:\n",
    "    if maxYear(t6) < 2011:\n",
    "        mort.append(c6)\n",
    "    else:\n",
    "        if moyYear(t6) < 2009:\n",
    "            ancien.append(c6)\n",
    "        elif moyYear(t6) > 2014:\n",
    "            recent.append(c6)\n",
    "        else:\n",
    "            moyen.append(c6)\n",
    "elif minYear(t6) > 2011:\n",
    "    nouveau.append(c6)\n",
    "else:\n",
    "    if moyYear(t6) < 2011:\n",
    "        ancien.append(c6)\n",
    "    elif moyYear(t6) > 2011:\n",
    "        recent.append(c6)\n",
    "    else:\n",
    "        moyen.append(c6)\n",
    "                \n",
    "if minYear(t7) < 2011:\n",
    "    if maxYear(t7) < 2011:\n",
    "        mort.append(c7)\n",
    "    else:\n",
    "        if moyYear(t7) < 2009:\n",
    "            ancien.append(c7)\n",
    "        elif moyYear(t7) > 2014:\n",
    "            recent.append(c7)\n",
    "        else:\n",
    "            moyen.append(c7)\n",
    "elif minYear(t7) > 2011:\n",
    "    nouveau.append(c7)\n",
    "else:\n",
    "    if moyYear(t7) < 2011:\n",
    "        ancien.append(c7)\n",
    "    elif moyYear(t7) > 2011:\n",
    "        recent.append(c7)\n",
    "    else:\n",
    "        moyen.append(c7)\n",
    "                \n",
    "if minYear(t8) < 2011:\n",
    "    if maxYear(t8) < 2011:\n",
    "        mort.append(c8)\n",
    "    else:\n",
    "        if moyYear(t8) < 2009:\n",
    "            ancien.append(c8)\n",
    "        elif moyYear(t8) > 2014:\n",
    "            recent.append(c8)\n",
    "        else:\n",
    "            moyen.append(c8)\n",
    "elif minYear(t8) > 2011:\n",
    "    nouveau.append(c8)\n",
    "else:\n",
    "    if moyYear(t8) < 2011:\n",
    "        ancien.append(c8)\n",
    "    elif moyYear(t8) > 2011:\n",
    "        recent.append(c8)\n",
    "    else:\n",
    "        moyen.append(c8)\n",
    "                \n",
    "if minYear(t9) < 2011:\n",
    "    if maxYear(t9) < 2011:\n",
    "        mort.append(c9)\n",
    "    else:\n",
    "        if moyYear(t9) <= 2010:\n",
    "            ancien.append(c9)\n",
    "        elif moyYear(t9) >= 2013:\n",
    "            recent.append(c9)\n",
    "        else:\n",
    "            moyen.append(c9)\n",
    "elif minYear(t9) > 2011:\n",
    "    nouveau.append(c9)\n",
    "else:\n",
    "    if moyYear(t9) < 2011:\n",
    "        ancien.append(c9)\n",
    "    elif moyYear(t9) > 2011:\n",
    "        recent.append(c9)\n",
    "    else:\n",
    "        moyen.append(c9)"
   ]
  },
  {
   "cell_type": "code",
   "execution_count": null,
   "metadata": {},
   "outputs": [],
   "source": [
    "print(\"Max:\",maxYear(t9))\n",
    "print(\"Min:\",minYear(t9))\n",
    "print(\"Moy:\",moyYear(t9))"
   ]
  },
  {
   "cell_type": "code",
   "execution_count": null,
   "metadata": {},
   "outputs": [],
   "source": [
    "print(\"Recent:\",recent)\n",
    "print(\"Ancien:\",ancien)\n",
    "print(\"Moyen:\",moyen)\n",
    "print(\"Mort:\",mort)\n",
    "print(\"Nouveau:\",nouveau)"
   ]
  },
  {
   "cell_type": "markdown",
   "metadata": {},
   "source": [
    "### Évaluation de la classification"
   ]
  },
  {
   "cell_type": "markdown",
   "metadata": {},
   "source": [
    "On va maximiser la distance inter cluster et minimiser la distance intra cluster\n",
    "\n",
    "Distance intra max < Distance inter min\n",
    "\n",
    "Comparons l'efficacité de la similarité de Jaccard et de la similarité Cosine"
   ]
  },
  {
   "cell_type": "code",
   "execution_count": null,
   "metadata": {},
   "outputs": [],
   "source": [
    "def jaccard(vec1, vec):\n",
    "    commun = 0\n",
    "    diff = 0\n",
    "    for key in vec1.keys():\n",
    "        if key in vec.keys():\n",
    "            commun = commun + 1\n",
    "        else:\n",
    "            diff = diff + 1\n",
    "    if diff == 0:\n",
    "        return -1\n",
    "    return commun/diff\n",
    "\n",
    "def cosine(vec1, vec2):\n",
    "    v1 = np.array(list(vec1.values()))\n",
    "    v2 = np.array(list(vec2.values()))\n",
    "    # La partie qui suit devra être retirée plus tard quand on aura des clusters normalisés.\n",
    "    if len(vec1) > len(vec2):\n",
    "        v1 = v1[:len(vec2)]\n",
    "    else:\n",
    "        v2 = v2[:len(vec1)]\n",
    "    return np.dot(v1, v2) / (np.sqrt(np.sum(v1**2)) * np.sqrt(np.sum(v2**2)))  "
   ]
  },
  {
   "cell_type": "code",
   "execution_count": null,
   "metadata": {},
   "outputs": [],
   "source": [
    "print(\"J\",jaccard(c0,c1))\n",
    "print(\"C\",cosine(c0,c1))"
   ]
  },
  {
   "cell_type": "code",
   "execution_count": null,
   "metadata": {},
   "outputs": [],
   "source": [
    "print(\"--- %s seconds ---\" % round(time.clock() - start_time, 2))"
   ]
  }
 ],
 "metadata": {
  "kernelspec": {
   "display_name": "Python 3",
   "language": "python",
   "name": "python3"
  },
  "language_info": {
   "codemirror_mode": {
    "name": "ipython",
    "version": 3
   },
   "file_extension": ".py",
   "mimetype": "text/x-python",
   "name": "python",
   "nbconvert_exporter": "python",
   "pygments_lexer": "ipython3",
   "version": "3.6.5"
  }
 },
 "nbformat": 4,
 "nbformat_minor": 2
}
